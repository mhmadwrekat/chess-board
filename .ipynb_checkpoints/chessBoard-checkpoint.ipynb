{
 "cells": [
  {
   "cell_type": "markdown",
   "metadata": {},
   "source": [
    "# Jupyter NoteBook - Chessboard"
   ]
  },
  {
   "cell_type": "code",
   "execution_count": 1,
   "metadata": {},
   "outputs": [],
   "source": [
    "import numpy as np\n",
    "%matplotlib inline\n",
    "import matplotlib.pyplot as plt"
   ]
  },
  {
   "cell_type": "code",
   "execution_count": 16,
   "metadata": {},
   "outputs": [],
   "source": [
    "class ChessBoard :\n",
    "    def __init__ (self):\n",
    "        self.board = np.ones([8,8,3])\n",
    "        for i in np.ndindex(8,8) :\n",
    "            row = i[0]\n",
    "            col = i[1]\n",
    "            if row % 2 != col % 2 :\n",
    "                self.board[row,col] = [0,0,0]\n",
    "\n",
    "    def add_red (self , row , col) :\n",
    "        self.board[row, col] =[1,.1,0]\n",
    "    \n",
    "    def add_blue (self , row , col) :\n",
    "        self.board[row, col] =[0,0.75,1]    \n",
    "    def render (self) :\n",
    "        plt.imshow(self.board)\n",
    "    \n",
    "    def is_under_attack (self , red , blue) :\n",
    "        RED = abs(red[0] - blue[0])\n",
    "        BLUE = abs(red[1] - blue[1])\n",
    "        if (RED == 0) or  (BLUE == 0) or (RED == BLUE):\n",
    "            return True\n",
    "        else:\n",
    "            False"
   ]
  },
  {
   "cell_type": "markdown",
   "metadata": {},
   "source": [
    "## Status 1 ***Chess Board With White And Black***"
   ]
  },
  {
   "cell_type": "code",
   "execution_count": 3,
   "metadata": {},
   "outputs": [
    {
     "data": {
      "image/png": "[encoded data removed]",
      "text/plain": [
       "<Figure size 432x288 with 1 Axes>"
      ]
     },
     "metadata": {
      "needs_background": "light"
     },
     "output_type": "display_data"
    }
   ],
   "source": [
    "chess = ChessBoard()\n",
    "chess.render()"
   ]
  },
  {
   "cell_type": "markdown",
   "metadata": {},
   "source": [
    "---\n",
    "## Status 2 ***Chess Board With Red***"
   ]
  },
  {
   "cell_type": "code",
   "execution_count": 4,
   "metadata": {},
   "outputs": [
    {
     "data": {
      "image/png": "[encoded data removed]",
      "text/plain": [
       "<Figure size 432x288 with 1 Axes>"
      ]
     },
     "metadata": {
      "needs_background": "light"
     },
     "output_type": "display_data"
    }
   ],
   "source": [
    "chess = ChessBoard()\n",
    "chess.add_red(4,2)\n",
    "chess.render()"
   ]
  },
  {
   "cell_type": "markdown",
   "metadata": {},
   "source": [
    "---\n",
    "## Status 3 ***Chess Board With Blue***"
   ]
  },
  {
   "cell_type": "code",
   "execution_count": 5,
   "metadata": {},
   "outputs": [
    {
     "data": {
      "image/png": "[encoded data removed]",
      "text/plain": [
       "<Figure size 432x288 with 1 Axes>"
      ]
     },
     "metadata": {
      "needs_background": "light"
     },
     "output_type": "display_data"
    }
   ],
   "source": [
    "chess = ChessBoard()\n",
    "chess.add_blue(4,6)\n",
    "chess.render()"
   ]
  },
  {
   "cell_type": "markdown",
   "metadata": {},
   "source": [
    "---\n",
    "## Status 4 ***Chess Board With Red And Blue***"
   ]
  },
  {
   "cell_type": "code",
   "execution_count": 6,
   "metadata": {},
   "outputs": [
    {
     "data": {
      "image/png": "[encoded data removed]",
      "text/plain": [
       "<Figure size 432x288 with 1 Axes>"
      ]
     },
     "metadata": {
      "needs_background": "light"
     },
     "output_type": "display_data"
    }
   ],
   "source": [
    "chess = ChessBoard()\n",
    "chess.add_red(4,2)\n",
    "chess.add_blue(4,6)\n",
    "chess.render()\n",
    "assert chess.is_under_attack([4,2],[4,6]) == True\n"
   ]
  },
  {
   "cell_type": "markdown",
   "metadata": {},
   "source": [
    "---\n",
    "## Status 5 ***Chess Board With Red And Blue In Different Places***"
   ]
  },
  {
   "cell_type": "code",
   "execution_count": 12,
   "metadata": {},
   "outputs": [
    {
     "data": {
      "image/png": "[encoded data removed]",
      "text/plain": [
       "<Figure size 432x288 with 1 Axes>"
      ]
     },
     "metadata": {
      "needs_background": "light"
     },
     "output_type": "display_data"
    }
   ],
   "source": [
    "chess = ChessBoard()\n",
    "chess.add_red(4,2)\n",
    "chess.add_blue(4,3)\n",
    "chess.render()\n",
    "assert chess.is_under_attack([4,2],[4,3]) == True"
   ]
  },
  {
   "cell_type": "markdown",
   "metadata": {
    "tags": []
   },
   "source": [
    "---\n",
    "## Status 6 ***Chess Board With Red And Blue In Defferent Places***"
   ]
  },
  {
   "cell_type": "code",
   "execution_count": 18,
   "metadata": {},
   "outputs": [
    {
     "data": {
      "image/png": "[encoded data removed]",
      "text/plain": [
       "<Figure size 432x288 with 1 Axes>"
      ]
     },
     "metadata": {
      "needs_background": "light"
     },
     "output_type": "display_data"
    }
   ],
   "source": [
    "ches = ChessBoard()\n",
    "ches.add_red(4,2)\n",
    "ches.add_blue(2,4)\n",
    "ches.render()\n",
    "assert ches.is_under_attack([4,2],[2,4]) == True"
   ]
  },
  {
   "cell_type": "markdown",
   "metadata": {},
   "source": [
    "---\n",
    "## Status 7 ***Chess Board With Red And Blue And Return False***"
   ]
  },
  {
   "cell_type": "code",
   "execution_count": null,
   "metadata": {},
   "outputs": [],
   "source": [
    "chess = ChessBoard()\n",
    "chess.add_red(6,2)\n",
    "chess.add_blue(5,4)\n",
    "chess.render()\n",
    "assert chess.is_under_attack([6,2],[5,4]) == False"
   ]
  },
  {
   "cell_type": "markdown",
   "metadata": {},
   "source": [
    "---"
   ]
  }
 ],
 "metadata": {
  "interpreter": {
   "hash": "916dbcbb3f70747c44a77c7bcd40155683ae19c65e1c03b4aa3499c5328201f1"
  },
  "kernelspec": {
   "display_name": "Python 3 (ipykernel)",
   "language": "python",
   "name": "python3"
  },
  "language_info": {
   "codemirror_mode": {
    "name": "ipython",
    "version": 3
   },
   "file_extension": ".py",
   "mimetype": "text/x-python",
   "name": "python",
   "nbconvert_exporter": "python",
   "pygments_lexer": "ipython3",
   "version": "3.9.5"
  }
 },
 "nbformat": 4,
 "nbformat_minor": 4
}
